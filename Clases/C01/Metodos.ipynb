{
 "cells": [
  {
   "cell_type": "markdown",
   "source": [
    "# Métodos en Python: instancia, clase y estáticos#%% md\n",
    "Haciendo uso de los decoradores, es posible crear diferentes tipos de métodos:\n",
    "- Lo métodos de instancia “normales” como metodo()\n",
    "- Métodos de clase usando el decorador @classmethod\n",
    "- Y métodos estáticos usando el decorador @staticmethod\n",
    "\n",
    "En la siguiente clase tenemos un ejemplo donde definimos los tres tipos de métodos."
   ],
   "metadata": {
    "collapsed": false
   }
  },
  {
   "cell_type": "code",
   "execution_count": null,
   "metadata": {
    "collapsed": true
   },
   "outputs": [],
   "source": [
    "class Clase:\n",
    "    def metodo(self):\n",
    "        return 'Método normal', self\n",
    "\n",
    "    @classmethod\n",
    "    def metododeclase(cls):\n",
    "        return 'Método de clase', cls\n",
    "\n",
    "    @staticmethod\n",
    "    def metodoestatico():\n",
    "        return \"Método estático\""
   ]
  },
  {
   "cell_type": "markdown",
   "source": [
    "### Métodos de instancia\n",
    "\n",
    "Los métodos de instancia son los métodos normales, de toda la vida. Reciben como parámetro de entrada self que hace referencia a la instancia que llama al método.\n",
    "También pueden recibir otros argumentos como entrada.\n",
    "\n",
    "Para saber más: El uso de ***\"self\"*** es totalmente arbitrario. Se trata de una convención acordada por los usuarios de Python, usada para referirse a la instancia que llama al método, pero podría ser cualquier otro nombre. Lo mismo ocurre con \"cls\", que veremos a continuación.\n"
   ],
   "metadata": {
    "collapsed": false
   }
  },
  {
   "cell_type": "code",
   "execution_count": 1,
   "outputs": [
    {
     "data": {
      "text/plain": "('Método normal', <__main__.Clase at 0x28ad0e35410>)"
     },
     "execution_count": 1,
     "metadata": {},
     "output_type": "execute_result"
    }
   ],
   "source": [
    "class Clase:\n",
    "    def metodo(self, arg1, arg2):\n",
    "        return 'Método normal', self\n",
    "\n",
    "\n",
    "# Y como ya sabemos, una vez creado un objeto pueden ser llamados.\n",
    "\n",
    "mi_clase = Clase()\n",
    "mi_clase.metodo(\"a\", \"b\")"
   ],
   "metadata": {
    "collapsed": false,
    "ExecuteTime": {
     "end_time": "2023-07-29T03:29:22.711913300Z",
     "start_time": "2023-07-29T03:29:22.703958700Z"
    }
   }
  },
  {
   "cell_type": "markdown",
   "source": [
    "En vista a esto, los métodos de instancia:\n",
    "\n",
    "- Pueden acceder y modificar los atributos del objeto.\n",
    "- Pueden acceder a otros métodos.\n",
    "- Dado que desde el objeto self se puede acceder a la clase con ` self.class`, también pueden modificar el estado de la clase"
   ],
   "metadata": {
    "collapsed": false
   }
  },
  {
   "cell_type": "markdown",
   "source": [
    "### Métodos de clase (classmethod)\n",
    "\n",
    "A diferencia de los métodos de instancia, los métodos de clase reciben como argumento cls, que hace referencia a la clase. Por lo tanto, pueden acceder a la clase pero no a la instancia."
   ],
   "metadata": {
    "collapsed": false
   }
  },
  {
   "cell_type": "code",
   "execution_count": 5,
   "outputs": [],
   "source": [
    "class Clase:\n",
    "    @classmethod\n",
    "    def metododeclase(cls):\n",
    "        return 'Método de clase', cls"
   ],
   "metadata": {
    "collapsed": false,
    "ExecuteTime": {
     "end_time": "2023-07-29T03:49:53.747871900Z",
     "start_time": "2023-07-29T03:49:53.737222600Z"
    }
   }
  },
  {
   "cell_type": "code",
   "execution_count": 6,
   "outputs": [
    {
     "data": {
      "text/plain": "('Método de clase', __main__.Clase)"
     },
     "execution_count": 6,
     "metadata": {},
     "output_type": "execute_result"
    }
   ],
   "source": [
    "#Se pueden llamar sobre la clase.\n",
    "Clase.metododeclase()"
   ],
   "metadata": {
    "collapsed": false,
    "ExecuteTime": {
     "end_time": "2023-07-29T03:49:55.248897500Z",
     "start_time": "2023-07-29T03:49:55.238602400Z"
    }
   }
  },
  {
   "cell_type": "code",
   "execution_count": 8,
   "outputs": [
    {
     "data": {
      "text/plain": "('Método de clase', __main__.Clase)"
     },
     "execution_count": 8,
     "metadata": {},
     "output_type": "execute_result"
    }
   ],
   "source": [
    "#Pero también se pueden llamar sobre el objeto.\n",
    "mi_clase = Clase()\n",
    "mi_clase.metododeclase()"
   ],
   "metadata": {
    "collapsed": false,
    "ExecuteTime": {
     "end_time": "2023-07-29T03:52:01.621182300Z",
     "start_time": "2023-07-29T03:52:01.610066900Z"
    }
   }
  },
  {
   "cell_type": "markdown",
   "source": [
    "Por lo tanto, los métodos de clase:\n",
    "\n",
    "- No pueden acceder a los atributos de la instancia.\n",
    "- Pero si pueden modificar los atributos de la clase."
   ],
   "metadata": {
    "collapsed": false
   }
  },
  {
   "cell_type": "markdown",
   "source": [
    "### Métodos estáticos (staticmethod)\n",
    "\n",
    "Por último, los métodos estáticos se pueden definir con el decorador `@staticmethod`  y no aceptan como parámetro ni la instancia ni la clase. Es por ello por lo que no pueden modificar el estado ni de la clase ni de la instancia. Pero por supuesto pueden aceptar parámetros de entrada."
   ],
   "metadata": {
    "collapsed": false
   }
  },
  {
   "cell_type": "code",
   "execution_count": 9,
   "outputs": [
    {
     "data": {
      "text/plain": "'Método estático'"
     },
     "execution_count": 9,
     "metadata": {},
     "output_type": "execute_result"
    }
   ],
   "source": [
    "class Clase:\n",
    "    @staticmethod\n",
    "    def metodoestatico():\n",
    "        return \"Método estático\"\n",
    "\n",
    "\n",
    "mi_clase = Clase()\n",
    "Clase.metodoestatico()\n",
    "mi_clase.metodoestatico()"
   ],
   "metadata": {
    "collapsed": false,
    "ExecuteTime": {
     "end_time": "2023-07-29T03:54:29.974748300Z",
     "start_time": "2023-07-29T03:54:29.963572800Z"
    }
   }
  },
  {
   "cell_type": "markdown",
   "source": [
    "Por lo tanto el uso de los métodos estáticos pueden resultar útil para indicar que un método no modificará el estado de la instancia ni de la clase. Es cierto que se podría hacer lo mismo con un método de instancia por ejemplo, pero a veces resulta importante indicar de alguna manera estas peculiaridades, evitando así futuros problemas y malentendidos.\n",
    "\n",
    "En otras palabras, los métodos estáticos se podrían ver como funciones normales, con la salvedad de que van ligadas a una clase concreta."
   ],
   "metadata": {
    "collapsed": false
   }
  }
 ],
 "metadata": {
  "kernelspec": {
   "display_name": "Python 3",
   "language": "python",
   "name": "python3"
  },
  "language_info": {
   "codemirror_mode": {
    "name": "ipython",
    "version": 2
   },
   "file_extension": ".py",
   "mimetype": "text/x-python",
   "name": "python",
   "nbconvert_exporter": "python",
   "pygments_lexer": "ipython2",
   "version": "2.7.6"
  }
 },
 "nbformat": 4,
 "nbformat_minor": 0
}

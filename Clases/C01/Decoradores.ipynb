{
 "cells": [
  {
   "cell_type": "markdown",
   "source": [
    "# DECORADORES\n",
    "Son funciones que añaden funcionalidades a otras funciones.\n",
    "- Por eso se denominan decoradores, por que \"decoran\" otras funciones. Les añaden funcionalidades.\n",
    "- Estructura de un decorador:\n",
    "    - 3 funciones (A,B y C) donde A recibe como parametro B para devolver C.\n",
    "    - Un decorador devuelve una función.\n"
   ],
   "metadata": {
    "collapsed": false
   }
  },
  {
   "cell_type": "code",
   "execution_count": 1,
   "metadata": {
    "collapsed": true,
    "ExecuteTime": {
     "end_time": "2023-07-28T21:58:59.566579200Z",
     "start_time": "2023-07-28T21:58:59.560576300Z"
    }
   },
   "outputs": [
    {
     "data": {
      "text/plain": "5"
     },
     "execution_count": 1,
     "metadata": {},
     "output_type": "execute_result"
    }
   ],
   "source": [
    "#Ejemplo - Antes de un decorador\n",
    "def suma():\n",
    "    return 5 + 5\n",
    "\n",
    "\n",
    "def resta():\n",
    "    return 10 - 5\n",
    "\n",
    "\n",
    "print(suma())\n",
    "print(resta())"
   ]
  },
  {
   "cell_type": "code",
   "execution_count": 11,
   "outputs": [
    {
     "name": "stdout",
     "output_type": "stream",
     "text": [
      "Realizamos un cálculo\n",
      "10\n",
      "Fin del cálculo\n",
      "None\n",
      "Realizamos un cálculo\n",
      "5\n",
      "Fin del cálculo\n",
      "None\n"
     ]
    }
   ],
   "source": [
    "#Ejemplo - Después de un decorador\n",
    "\n",
    "def funcion_decoradora(funcion_parametro):\n",
    "    def funcion_interior():\n",
    "        print('Realizamos un cálculo')\n",
    "        print(funcion_parametro())\n",
    "        print('Fin del cálculo')\n",
    "\n",
    "    return funcion_interior\n",
    "\n",
    "@funcion_decoradora\n",
    "def suma():\n",
    "    return 5 + 5\n",
    "\n",
    "@funcion_decoradora\n",
    "def resta():\n",
    "    return 10 - 5\n",
    "\n",
    "\n",
    "print(suma())\n",
    "print(resta())"
   ],
   "metadata": {
    "collapsed": false,
    "ExecuteTime": {
     "end_time": "2023-07-28T22:04:31.185266200Z",
     "start_time": "2023-07-28T22:04:31.179205800Z"
    }
   }
  },
  {
   "cell_type": "code",
   "execution_count": null,
   "outputs": [],
   "source": [],
   "metadata": {
    "collapsed": false
   }
  },
  {
   "cell_type": "code",
   "execution_count": null,
   "outputs": [],
   "source": [],
   "metadata": {
    "collapsed": false
   }
  }
 ],
 "metadata": {
  "kernelspec": {
   "display_name": "Python 3",
   "language": "python",
   "name": "python3"
  },
  "language_info": {
   "codemirror_mode": {
    "name": "ipython",
    "version": 2
   },
   "file_extension": ".py",
   "mimetype": "text/x-python",
   "name": "python",
   "nbconvert_exporter": "python",
   "pygments_lexer": "ipython2",
   "version": "2.7.6"
  }
 },
 "nbformat": 4,
 "nbformat_minor": 0
}

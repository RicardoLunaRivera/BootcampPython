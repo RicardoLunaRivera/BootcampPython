{
 "cells": [
  {
   "cell_type": "markdown",
   "source": [
    "# FUNCIONES LAMDA - FUNCIONES ANÓNIMAS\n",
    "\n",
    "Las expresiones lambda se usan idealmente cuando necesitamos hacer algo simple y estamos más interesados en hacer el trabajo rápidamente en lugar de nombrar formalmente la\n",
    "función.\n"
   ],
   "metadata": {
    "collapsed": false
   }
  },
  {
   "cell_type": "code",
   "execution_count": 2,
   "metadata": {
    "collapsed": true,
    "ExecuteTime": {
     "end_time": "2023-07-28T22:35:45.625860200Z",
     "start_time": "2023-07-28T22:35:45.618710600Z"
    }
   },
   "outputs": [
    {
     "name": "stdout",
     "output_type": "stream",
     "text": [
      "9.0\n",
      "747.5\n"
     ]
    }
   ],
   "source": [
    "#Ejemplo de función  - normal\n",
    "def area_triangulo(base, altura):\n",
    "    return (base * altura) / 2\n",
    "\n",
    "\n",
    "triangulo1 = area_triangulo(3, 6)\n",
    "triangulo2 = area_triangulo(65, 23)\n",
    "\n",
    "print(triangulo1)\n",
    "print(triangulo2)"
   ]
  },
  {
   "cell_type": "code",
   "execution_count": 6,
   "outputs": [
    {
     "name": "stdout",
     "output_type": "stream",
     "text": [
      "75\n",
      "165\n"
     ]
    }
   ],
   "source": [
    "area_rectangulo = lambda base, altura: base * altura\n",
    "print(area_rectangulo(25, 3))\n",
    "\n",
    "rectangulo = area_rectangulo(33, 5)\n",
    "print(rectangulo)"
   ],
   "metadata": {
    "collapsed": false,
    "ExecuteTime": {
     "end_time": "2023-07-28T22:44:54.822331100Z",
     "start_time": "2023-07-28T22:44:54.811701900Z"
    }
   }
  },
  {
   "cell_type": "code",
   "execution_count": 10,
   "outputs": [
    {
     "name": "stdout",
     "output_type": "stream",
     "text": [
      "$ 2553\n",
      "¥ 25888633\n"
     ]
    }
   ],
   "source": [
    "#Ejemplo\n",
    "agregar_moneda = lambda simbolo, monto:\"{0} {1}\".format(simbolo, monto)\n",
    "print(agregar_moneda('$', 2553))\n",
    "print(agregar_moneda('¥', 25888633))"
   ],
   "metadata": {
    "collapsed": false,
    "ExecuteTime": {
     "end_time": "2023-07-28T22:52:50.499394700Z",
     "start_time": "2023-07-28T22:52:50.490007300Z"
    }
   }
  }
 ],
 "metadata": {
  "kernelspec": {
   "display_name": "Python 3",
   "language": "python",
   "name": "python3"
  },
  "language_info": {
   "codemirror_mode": {
    "name": "ipython",
    "version": 2
   },
   "file_extension": ".py",
   "mimetype": "text/x-python",
   "name": "python",
   "nbconvert_exporter": "python",
   "pygments_lexer": "ipython2",
   "version": "2.7.6"
  }
 },
 "nbformat": 4,
 "nbformat_minor": 0
}

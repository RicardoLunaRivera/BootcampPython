{
 "cells": [
  {
   "cell_type": "raw",
   "source": [
    "# PROPERTIES\n",
    "Las properties son la forma pythonica de evitar la creación de métodos para obtener y modificar atributos de una clase.\n",
    "Esta función nos ayuda a convertir atributos de una clase en properties o managed attributes."
   ],
   "metadata": {
    "collapsed": false
   }
  },
  {
   "cell_type": "code",
   "execution_count": null,
   "metadata": {
    "collapsed": true
   },
   "outputs": [],
   "source": [
    "class circle:\n",
    "\n",
    "    def __init__(self, radius):\n",
    "        @property\n",
    "        def radius(self):\n",
    "            '''The radius property'''\n",
    "            print('Get raius')\n",
    "            return self.__radius\n",
    "\n",
    "        @radius.setter\n",
    "        def radius(self, value):\n",
    "            print('Set radius')\n",
    "            self.__radius = value\n",
    "\n",
    "        @radius.deleter\n",
    "        def radius(self):\n",
    "            print('Delete raius')\n",
    "        del self.__radius"
   ]
  },
  {
   "cell_type": "markdown",
   "source": [
    "El decorador `@property`, que viene por defecto con Python, y puede ser usado para modificar un método para que sea un atributo o propiedad.\n",
    "\n",
    "El decorador puede ser usado sobre un método, que hará que actúe como si fuera un atributo."
   ],
   "metadata": {
    "collapsed": false
   }
  },
  {
   "cell_type": "code",
   "execution_count": 1,
   "outputs": [],
   "source": [
    "class Clase:\n",
    "    def __init__(self, mi_atributo):\n",
    "        self.__mi_atributo = mi_atributo\n",
    "\n",
    "    @property\n",
    "    def mi_atributo(self):\n",
    "        return self.__mi_atributo"
   ],
   "metadata": {
    "collapsed": false,
    "ExecuteTime": {
     "end_time": "2023-07-29T03:10:22.120474600Z",
     "start_time": "2023-07-29T03:10:22.117470300Z"
    }
   }
  },
  {
   "cell_type": "markdown",
   "source": [
    "Como si de un atributo normal se tratase, podemos acceder a el con el objeto `.` y nombre."
   ],
   "metadata": {
    "collapsed": false
   }
  },
  {
   "cell_type": "code",
   "execution_count": 2,
   "outputs": [
    {
     "data": {
      "text/plain": "'valor_atributo'"
     },
     "execution_count": 2,
     "metadata": {},
     "output_type": "execute_result"
    }
   ],
   "source": [
    "mi_clase = Clase(\"valor_atributo\")\n",
    "mi_clase.mi_atributo\n",
    "# 'valor_atributo'"
   ],
   "metadata": {
    "collapsed": false,
    "ExecuteTime": {
     "end_time": "2023-07-29T03:10:24.336229Z",
     "start_time": "2023-07-29T03:10:24.324285Z"
    }
   }
  },
  {
   "cell_type": "markdown",
   "source": [
    "Muy importante notar que aunque mi_atributo pueda parecer un método, en realidad no lo es, por lo que no puede ser llamado con ().\n",
    "> # mi_clase.mi_atributo() # Error! Es un atributo, no un método"
   ],
   "metadata": {
    "collapsed": false
   }
  },
  {
   "cell_type": "markdown",
   "source": [],
   "metadata": {
    "collapsed": false
   }
  },
  {
   "cell_type": "markdown",
   "source": [
    "### ACCESO CONTROLADO\n",
    "Esto puede ser importante con ciertas variables que no queremos que sean accesibles desde el exterior de una manera no controlada. Al definir la propiedad con @property el acceso a ese atributo se realiza a través de una función, siendo por lo tanto un acceso controlado."
   ],
   "metadata": {
    "collapsed": false
   }
  },
  {
   "cell_type": "code",
   "execution_count": null,
   "outputs": [],
   "source": [
    "class Clase:\n",
    "    def __init__(self, mi_atributo):\n",
    "        self.__mi_atributo = mi_atributo\n",
    "\n",
    "    @property\n",
    "    def mi_atributo(self):\n",
    "        # El acceso se realiza a través de este \"método\" y\n",
    "        # podría contener código extra y no un simple retorno\n",
    "        return self.__mi_atributo"
   ],
   "metadata": {
    "collapsed": false
   }
  },
  {
   "cell_type": "markdown",
   "source": [
    "Otra utilidad podría ser la consulta de un parámetro que requiera de muchos cálculos. Se podría tener un atributo que no estuviera directamente almacenado en la clase, sino que precisara de realizar ciertos cálculos. Para optimizar esto, se podrían hacer los cálculos sólo cuando el atributo es consultado.\n",
    "\n",
    "Por último, existen varios añadidos al decorador `@property` como pueden ser el `setter`. Se trata de otro decorador que permite definir un “método” que modifica el contenido del atributo que se esté usando."
   ],
   "metadata": {
    "collapsed": false
   }
  },
  {
   "cell_type": "code",
   "execution_count": 3,
   "outputs": [],
   "source": [
    "class Clase:\n",
    "    def __init__(self, mi_atributo):\n",
    "        self.__mi_atributo = mi_atributo\n",
    "\n",
    "    @property\n",
    "    def mi_atributo(self):\n",
    "        return self.__mi_atributo\n",
    "\n",
    "    @mi_atributo.setter\n",
    "    def mi_atributo(self, valor):\n",
    "        if valor != \"\":\n",
    "            print(\"Modificando el valor\")\n",
    "            self.__mi_atributo = valor\n",
    "        else:\n",
    "            print(\"Error está vacío\")"
   ],
   "metadata": {
    "collapsed": false,
    "ExecuteTime": {
     "end_time": "2023-07-29T03:20:47.754789400Z",
     "start_time": "2023-07-29T03:20:47.735411Z"
    }
   }
  },
  {
   "cell_type": "markdown",
   "source": [
    "De esta forma podemos añadir código al `setter`, haciendo que por ejemplo realice comprobaciones antes de modificar el valor. Esto es una cosa que de usar un atributo normal no podríamos hacer, y es muy útil de cara a la encapsulación."
   ],
   "metadata": {
    "collapsed": false
   }
  },
  {
   "cell_type": "code",
   "execution_count": 4,
   "outputs": [
    {
     "name": "stdout",
     "output_type": "stream",
     "text": [
      "Modificando el valor\n",
      "Error está vacío\n"
     ]
    }
   ],
   "source": [
    "mi_clase = Clase(\"valor_atributo\")\n",
    "mi_clase.mi_atributo\n",
    "# 'valor_atributo'\n",
    "\n",
    "mi_clase.mi_atributo = \"nuevo_valor\"\n",
    "mi_clase.mi_atributo\n",
    "# 'nuevo_valor'\n",
    "\n",
    "mi_clase.mi_atributo = \"\"\n",
    "# Error está vacío"
   ],
   "metadata": {
    "collapsed": false,
    "ExecuteTime": {
     "end_time": "2023-07-29T03:21:41.994042600Z",
     "start_time": "2023-07-29T03:21:41.982838100Z"
    }
   }
  },
  {
   "cell_type": "markdown",
   "source": [
    "Resulta lógico pensar que si un determinado atributo pertenece a una clase, si queremos modificarlo debería de tener la “aprobación” de la clase, para asegurarse que ninguna entidad externa está “haciendo cosas raras”."
   ],
   "metadata": {
    "collapsed": false
   }
  }
 ],
 "metadata": {
  "kernelspec": {
   "display_name": "Python 3",
   "language": "python",
   "name": "python3"
  },
  "language_info": {
   "codemirror_mode": {
    "name": "ipython",
    "version": 2
   },
   "file_extension": ".py",
   "mimetype": "text/x-python",
   "name": "python",
   "nbconvert_exporter": "python",
   "pygments_lexer": "ipython2",
   "version": "2.7.6"
  }
 },
 "nbformat": 4,
 "nbformat_minor": 0
}
